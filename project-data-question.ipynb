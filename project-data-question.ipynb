{
 "cells": [
  {
   "cell_type": "markdown",
   "metadata": {},
   "source": [
    "# Assignment Directions\n",
    "\n",
    "In a code cell below this one, pull your data into a dataframe.\n",
    "\n",
    "In a markdown cell, the student should explain the dataset they have chosen and the question they are trying to answer. Why do you think this dataset is interesting? What do you hope to learn from it? What are your goals?"
   ]
  }
 ],
 "metadata": {
  "language_info": {
   "name": "python"
  }
 },
 "nbformat": 4,
 "nbformat_minor": 2
}
